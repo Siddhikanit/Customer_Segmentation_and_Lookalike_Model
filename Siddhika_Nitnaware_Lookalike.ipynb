{
 "cells": [
  {
   "cell_type": "code",
   "execution_count": 1,
   "id": "f230b279-c17c-4d2a-81cd-76bc44fd2caa",
   "metadata": {},
   "outputs": [],
   "source": [
    "import pandas as pd"
   ]
  },
  {
   "cell_type": "code",
   "execution_count": 3,
   "id": "088ba420-9bc1-4731-9c19-4ad340df551f",
   "metadata": {},
   "outputs": [],
   "source": [
    "customers = pd.read_csv(r'C:\\Users\\Siddhika\\Downloads\\Customers.csv')"
   ]
  },
  {
   "cell_type": "code",
   "execution_count": 5,
   "id": "ef0d478a-93f0-4a3f-940a-600e875c3f0c",
   "metadata": {},
   "outputs": [],
   "source": [
    "products = pd.read_csv(r'C:\\Users\\Siddhika\\Downloads\\Products.csv')"
   ]
  },
  {
   "cell_type": "code",
   "execution_count": 7,
   "id": "42265296-1420-4a41-8aef-70015924b238",
   "metadata": {},
   "outputs": [],
   "source": [
    "transactions = pd.read_csv(r'C:\\Users\\Siddhika\\Downloads\\Transactions.csv')"
   ]
  },
  {
   "cell_type": "code",
   "execution_count": 9,
   "id": "f51d3e87-c6bd-4ed8-a4b6-3ec50bdba1f0",
   "metadata": {},
   "outputs": [],
   "source": [
    "transactions_products = transactions.merge(products, on=\"ProductID\", how=\"left\")"
   ]
  },
  {
   "cell_type": "code",
   "execution_count": 11,
   "id": "5066b2b9-7424-4525-8cd1-36e3b9d2a978",
   "metadata": {},
   "outputs": [],
   "source": [
    "merged_data = transactions_products.merge(customers, on=\"CustomerID\", how=\"left\")"
   ]
  },
  {
   "cell_type": "code",
   "execution_count": 13,
   "id": "3577e0b2-7c60-4998-9048-b46ca41727d4",
   "metadata": {},
   "outputs": [],
   "source": [
    "customer_spending = merged_data.groupby(\"CustomerID\")[\"TotalValue\"].sum().reset_index()\n",
    "customer_spending.rename(columns={\"TotalValue\": \"TotalSpending\"}, inplace=True)"
   ]
  },
  {
   "cell_type": "code",
   "execution_count": 15,
   "id": "a9a0e5f1-5b28-450e-a0e8-5d4a5f89d7fb",
   "metadata": {},
   "outputs": [],
   "source": [
    "favorite_category = (\n",
    "    merged_data.groupby([\"CustomerID\", \"Category\"])[\"Quantity\"].sum()\n",
    "    .reset_index()\n",
    "    .sort_values(by=[\"CustomerID\", \"Quantity\"], ascending=[True, False])\n",
    ")\n",
    "favorite_category = favorite_category.groupby(\"CustomerID\").first().reset_index()\n",
    "favorite_category.rename(columns={\"Category\": \"FavoriteCategory\"}, inplace=True)"
   ]
  },
  {
   "cell_type": "code",
   "execution_count": 17,
   "id": "84796933-db48-4e26-bf85-1940eab1cee2",
   "metadata": {},
   "outputs": [],
   "source": [
    "customer_features = customers.merge(customer_spending, on=\"CustomerID\", how=\"left\")\n",
    "customer_features = customer_features.merge(\n",
    "    favorite_category[[\"CustomerID\", \"FavoriteCategory\"]], on=\"CustomerID\", how=\"left\"\n",
    ")"
   ]
  },
  {
   "cell_type": "code",
   "execution_count": 19,
   "id": "df6c46f2-3fd8-435e-bc3d-9ed29c5f09c0",
   "metadata": {},
   "outputs": [],
   "source": [
    "customer_features[\"TotalSpending\"] = customer_features[\"TotalSpending\"].fillna(0)\n",
    "customer_features[\"FavoriteCategory\"] = customer_features[\"FavoriteCategory\"].fillna(\"Unknown\")"
   ]
  },
  {
   "cell_type": "code",
   "execution_count": 21,
   "id": "dbf1322a-9377-461f-b5c3-907a378e6634",
   "metadata": {},
   "outputs": [],
   "source": [
    "from sklearn.preprocessing import OneHotEncoder"
   ]
  },
  {
   "cell_type": "code",
   "execution_count": 23,
   "id": "4cad6cfb-35a6-450b-a515-c2efca249ae8",
   "metadata": {},
   "outputs": [],
   "source": [
    "from sklearn.metrics.pairwise import cosine_similarity"
   ]
  },
  {
   "cell_type": "code",
   "execution_count": 25,
   "id": "dfa65d01-f421-470a-8784-31619a6beccf",
   "metadata": {},
   "outputs": [],
   "source": [
    "import numpy as np"
   ]
  },
  {
   "cell_type": "code",
   "execution_count": 27,
   "id": "f68ba089-a779-4104-9c3b-7e700cfcec40",
   "metadata": {},
   "outputs": [],
   "source": [
    "encoder = OneHotEncoder(sparse_output=False)\n",
    "encoded_categories = encoder.fit_transform(customer_features[[\"FavoriteCategory\"]])"
   ]
  },
  {
   "cell_type": "code",
   "execution_count": 29,
   "id": "e64619c7-9c50-476a-9c0f-321bdb1150e3",
   "metadata": {},
   "outputs": [],
   "source": [
    "numerical_features = customer_features[[\"TotalSpending\"]].values\n",
    "customer_data = np.hstack((numerical_features, encoded_categories))"
   ]
  },
  {
   "cell_type": "code",
   "execution_count": 31,
   "id": "fe7e1b16-3da2-4a32-be41-c1b2be164c08",
   "metadata": {},
   "outputs": [],
   "source": [
    "similarity_matrix = cosine_similarity(customer_data)"
   ]
  },
  {
   "cell_type": "code",
   "execution_count": 33,
   "id": "87b522bb-13c8-4237-a024-e79e64a771a0",
   "metadata": {},
   "outputs": [],
   "source": [
    "customer_ids = customer_features[\"CustomerID\"].values\n",
    "top_customers = {}"
   ]
  },
  {
   "cell_type": "code",
   "execution_count": 35,
   "id": "55881f6a-617c-43e2-8a6d-59f97622a6b4",
   "metadata": {},
   "outputs": [],
   "source": [
    "for i in range(20):  # First 20 customers\n",
    "    customer_id = customer_ids[i]\n",
    "    # Get similarity scores for the current customer\n",
    "    similarities = similarity_matrix[i]\n",
    "    # Exclude the customer itself and get top 3 similar customers\n",
    "    similar_indices = similarities.argsort()[::-1][1:4]\n",
    "    similar_customers = [(customer_ids[j], similarities[j]) for j in similar_indices]\n",
    "    top_customers[customer_id] = similar_customers\n"
   ]
  },
  {
   "cell_type": "code",
   "execution_count": 37,
   "id": "8c381a39-fb46-4006-b7b2-8149aed72bca",
   "metadata": {},
   "outputs": [],
   "source": [
    "lookalike_data = [\n",
    "    {\"CustomerID\": cust_id, \"Lookalikes\": str(recs)}\n",
    "    for cust_id, recs in top_customers.items()\n",
    "]\n",
    "\n",
    "lookalike_df = pd.DataFrame(lookalike_data)"
   ]
  },
  {
   "cell_type": "code",
   "execution_count": 39,
   "id": "1b884a37-ac74-49c5-bc47-a3c004a9be7e",
   "metadata": {},
   "outputs": [
    {
     "name": "stdout",
     "output_type": "stream",
     "text": [
      "Lookalike Model completed. Results saved to 'Lookalike.csv'.\n"
     ]
    }
   ],
   "source": [
    "lookalike_df.to_csv(\"Lookalike.csv\", index=False)\n",
    "print(\"Lookalike Model completed. Results saved to 'Lookalike.csv'.\")"
   ]
  },
  {
   "cell_type": "code",
   "execution_count": null,
   "id": "7a696c94-00ee-439e-a081-56ea46fa31b1",
   "metadata": {},
   "outputs": [],
   "source": []
  }
 ],
 "metadata": {
  "kernelspec": {
   "display_name": "Python [conda env:base] *",
   "language": "python",
   "name": "conda-base-py"
  },
  "language_info": {
   "codemirror_mode": {
    "name": "ipython",
    "version": 3
   },
   "file_extension": ".py",
   "mimetype": "text/x-python",
   "name": "python",
   "nbconvert_exporter": "python",
   "pygments_lexer": "ipython3",
   "version": "3.12.7"
  }
 },
 "nbformat": 4,
 "nbformat_minor": 5
}
